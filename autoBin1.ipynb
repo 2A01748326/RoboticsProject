{
 "cells": [
  {
   "cell_type": "code",
   "execution_count": 6,
   "metadata": {},
   "outputs": [],
   "source": [
    "import numpy as np\n",
    "import cv2\n",
    "import os\n",
    "from xml.dom import minidom\n",
    "from pascal_voc_writer import Writer\n"
   ]
  },
  {
   "cell_type": "code",
   "execution_count": 7,
   "metadata": {},
   "outputs": [],
   "source": [
    "def readImage(imagePath):\n",
    "    # Loads image:\n",
    "    inputImage = cv2.imread(imagePath)\n",
    "    # Checks if image was successfully loaded:\n",
    "    if inputImage is None:\n",
    "        print(\"readImage>> Error: Could not load Input image.\")\n",
    "    return inputImage\n",
    "\n",
    "\n",
    "# Defines a re-sizable image window:\n",
    "def showImage(imageName, inputImage):\n",
    "    cv2.namedWindow(imageName, cv2.WINDOW_NORMAL)\n",
    "    cv2.imshow(imageName, inputImage)\n",
    "    cv2.waitKey(0)\n",
    "    cv2.destroyWindow(imageName)\n",
    "\n",
    "\n",
    "# Writes an PNG image:\n",
    "def writeImage(imagePath, inputImage):\n",
    "    imagePath = imagePath + \".png\"\n",
    "    cv2.imwrite(imagePath, inputImage, [cv2.IMWRITE_PNG_COMPRESSION, 0])\n",
    "    print(\"Wrote Image: \" + imagePath)\n"
   ]
  },
  {
   "cell_type": "code",
   "execution_count": 8,
   "metadata": {},
   "outputs": [
    {
     "name": "stdout",
     "output_type": "stream",
     "text": [
      "The files insde  d:\\proyectorobotica\\RoboticsProject\\Images\\Binary are: \n"
     ]
    }
   ],
   "source": [
    "imgPath = os.path.join(os.getcwd(), 'Images')\n",
    "binImgPath = os.path.join(imgPath, 'Binary')\n",
    "colorImgPath = os.path.join(imgPath, 'Color')\n",
    "print(\"The files insde \", binImgPath, \"are: \")\n",
    "#inputImage = readImage(picPath)\n",
    "#showImage(\"fire10\",inputImage)\n",
    "root = minidom.Document()\n",
    "xml = root.createElement('root') "
   ]
  },
  {
   "cell_type": "code",
   "execution_count": 9,
   "metadata": {},
   "outputs": [],
   "source": [
    "colorList = os.listdir(colorImgPath)\n",
    "#for elem in lista:\n",
    "    #print(elem)\n",
    "binList = os.listdir(binImgPath)\n",
    "#for elem in lista:\n",
    "#    print(elem)"
   ]
  },
  {
   "cell_type": "code",
   "execution_count": 10,
   "metadata": {},
   "outputs": [
    {
     "name": "stdout",
     "output_type": "stream",
     "text": [
      "BlobRectangle List: fire000.png (339, 344, 12, 8)\n",
      "BlobRectangle List: fire000.png (355, 333, 5, 11)\n",
      "BlobRectangle List: fire000.png (388, 248, 5, 4)\n",
      "BlobRectangle List: fire000.png (380, 239, 6, 7)\n",
      "BlobRectangle List: fire000.png (394, 238, 13, 10)\n",
      "BlobRectangle List: fire000.png (390, 234, 4, 3)\n",
      "BlobRectangle List: fire000.png (263, 228, 23, 48)\n",
      "BlobRectangle List: fire000.png (289, 205, 95, 118)\n",
      "BlobRectangle List: fire001.png (415, 156, 15, 19)\n",
      "BlobRectangle List: fire001.png (414, 144, 8, 8)\n",
      "BlobRectangle List: fire001.png (253, 139, 43, 30)\n",
      "BlobRectangle List: fire001.png (358, 138, 31, 29)\n",
      "BlobRectangle List: fire001.png (311, 128, 34, 66)\n",
      "BlobRectangle List: fire001.png (273, 118, 24, 15)\n",
      "BlobRectangle List: fire001.png (256, 99, 16, 9)\n",
      "BlobRectangle List: fire001.png (259, 88, 13, 7)\n",
      "BlobRectangle List: fire001.png (279, 83, 25, 23)\n",
      "BlobRectangle List: fire001.png (174, 40, 84, 93)\n",
      "BlobRectangle List: fire002.png (379, 336, 6, 7)\n",
      "BlobRectangle List: fire002.png (412, 333, 2, 3)\n",
      "BlobRectangle List: fire002.png (329, 242, 4, 3)\n",
      "BlobRectangle List: fire002.png (396, 241, 107, 103)\n",
      "BlobRectangle List: fire002.png (462, 240, 1, 1)\n",
      "BlobRectangle List: fire002.png (233, 237, 39, 26)\n",
      "BlobRectangle List: fire002.png (452, 233, 10, 8)\n",
      "BlobRectangle List: fire002.png (266, 227, 10, 13)\n",
      "BlobRectangle List: fire002.png (276, 216, 51, 85)\n",
      "BlobRectangle List: fire002.png (289, 210, 39, 26)\n"
     ]
    },
    {
     "ename": "KeyboardInterrupt",
     "evalue": "",
     "output_type": "error",
     "traceback": [
      "\u001b[1;31m---------------------------------------------------------------------------\u001b[0m",
      "\u001b[1;31mKeyboardInterrupt\u001b[0m                         Traceback (most recent call last)",
      "Cell \u001b[1;32mIn [10], line 26\u001b[0m\n\u001b[0;32m     24\u001b[0m     writer\u001b[38;5;241m.\u001b[39maddObject(\u001b[38;5;124m'\u001b[39m\u001b[38;5;124mfire\u001b[39m\u001b[38;5;124m'\u001b[39m, blobRectangle[\u001b[38;5;241m0\u001b[39m], blobRectangle[\u001b[38;5;241m1\u001b[39m], blobRectangle[\u001b[38;5;241m0\u001b[39m]\u001b[38;5;241m+\u001b[39mblobRectangle[\u001b[38;5;241m2\u001b[39m], blobRectangle[\u001b[38;5;241m1\u001b[39m]\u001b[38;5;241m+\u001b[39mblobRectangle[\u001b[38;5;241m3\u001b[39m])\n\u001b[0;32m     25\u001b[0m writer\u001b[38;5;241m.\u001b[39msave(\u001b[38;5;124m'\u001b[39m\u001b[38;5;124mXMLs/\u001b[39m\u001b[38;5;124m'\u001b[39m \u001b[38;5;241m+\u001b[39m colorList[i][:\u001b[38;5;241m-\u001b[39m\u001b[38;5;241m4\u001b[39m] \u001b[38;5;241m+\u001b[39m \u001b[38;5;124m'\u001b[39m\u001b[38;5;124m.xml\u001b[39m\u001b[38;5;124m'\u001b[39m)\n\u001b[1;32m---> 26\u001b[0m \u001b[43mshowImage\u001b[49m\u001b[43m(\u001b[49m\u001b[38;5;124;43m\"\u001b[39;49m\u001b[38;5;124;43mColor\u001b[39;49m\u001b[38;5;124;43m\"\u001b[39;49m\u001b[43m,\u001b[49m\u001b[43m \u001b[49m\u001b[43mcolorInputImage\u001b[49m\u001b[43m)\u001b[49m\n",
      "Cell \u001b[1;32mIn [7], line 14\u001b[0m, in \u001b[0;36mshowImage\u001b[1;34m(imageName, inputImage)\u001b[0m\n\u001b[0;32m     12\u001b[0m cv2\u001b[38;5;241m.\u001b[39mnamedWindow(imageName, cv2\u001b[38;5;241m.\u001b[39mWINDOW_NORMAL)\n\u001b[0;32m     13\u001b[0m cv2\u001b[38;5;241m.\u001b[39mimshow(imageName, inputImage)\n\u001b[1;32m---> 14\u001b[0m \u001b[43mcv2\u001b[49m\u001b[38;5;241;43m.\u001b[39;49m\u001b[43mwaitKey\u001b[49m\u001b[43m(\u001b[49m\u001b[38;5;241;43m0\u001b[39;49m\u001b[43m)\u001b[49m\n\u001b[0;32m     15\u001b[0m cv2\u001b[38;5;241m.\u001b[39mdestroyWindow(imageName)\n",
      "\u001b[1;31mKeyboardInterrupt\u001b[0m: "
     ]
    }
   ],
   "source": [
    "for i in range(len(colorList)):\n",
    "    #Check first image and check the bounding rect of the blob\n",
    "    colorInputImage = readImage(os.path.join(colorImgPath, colorList[i]))\n",
    "    #showImage(colorList[i], colorInputImage)\n",
    "    binInputImage = readImage(os.path.join(binImgPath, binList[i]))\n",
    "    binInputImage = cv2.cvtColor(binInputImage, cv2.COLOR_BGR2GRAY)\n",
    "    automaticThreshold, binInputImage = cv2.threshold(binInputImage, 0, 255, cv2.THRESH_OTSU)\n",
    "    #showImage(binList[i], binInputImage)\n",
    "    # print(binInputImage)\n",
    "    contours, _ = cv2.findContours(binInputImage, cv2.RETR_EXTERNAL, cv2.CHAIN_APPROX_SIMPLE)\n",
    "    # print(binInputImage.shape)\n",
    "    writer = Writer(os.path.join(colorImgPath, colorList[i]), colorInputImage.shape[1], colorInputImage.shape[0])\n",
    "    for c in contours:\n",
    "        # Compute blob bounding rectangle:\n",
    "        blobRectangle = cv2.boundingRect(c)\n",
    "        # Compute blob area:\n",
    "        blobArea = cv2.contourArea(c)\n",
    "        # Print the blob area:\n",
    "        # print(\"Blob Area: \"+str(blobArea))\n",
    "        # Print blobRectangle\n",
    "        print(\"BlobRectangle List: \" + colorList[i], blobRectangle)\n",
    "        cv2.rectangle(colorInputImage, (blobRectangle[0], blobRectangle[1]), (blobRectangle[0]+blobRectangle[2], blobRectangle[1]+blobRectangle[3]), (0, 128, 0), 2)\n",
    "        \n",
    "        writer.addObject('fire', blobRectangle[0], blobRectangle[1], blobRectangle[0]+blobRectangle[2], blobRectangle[1]+blobRectangle[3])\n",
    "    writer.save('XMLs/' + colorList[i][:-4] + '.xml')\n",
    "    showImage(\"Color\", colorInputImage)\n"
   ]
  },
  {
   "cell_type": "code",
   "execution_count": null,
   "metadata": {},
   "outputs": [
    {
     "name": "stdout",
     "output_type": "stream",
     "text": [
      "(450, 800)\n",
      "Blob Area: 40.5\n",
      "BlobRectangle List:  (339, 344, 12, 8)\n",
      "Blob Area: 31.0\n",
      "BlobRectangle List:  (355, 333, 5, 11)\n",
      "Blob Area: 7.0\n",
      "BlobRectangle List:  (388, 248, 5, 4)\n",
      "Blob Area: 16.5\n",
      "BlobRectangle List:  (380, 239, 6, 7)\n",
      "Blob Area: 50.5\n",
      "BlobRectangle List:  (394, 238, 13, 10)\n",
      "Blob Area: 4.5\n",
      "BlobRectangle List:  (390, 234, 4, 3)\n",
      "Blob Area: 449.5\n",
      "BlobRectangle List:  (263, 228, 23, 48)\n",
      "Blob Area: 5971.5\n",
      "BlobRectangle List:  (289, 205, 95, 118)\n"
     ]
    }
   ],
   "source": [
    "\n"
   ]
  },
  {
   "cell_type": "code",
   "execution_count": null,
   "metadata": {},
   "outputs": [],
   "source": [
    "\n"
   ]
  },
  {
   "cell_type": "code",
   "execution_count": null,
   "metadata": {},
   "outputs": [],
   "source": []
  }
 ],
 "metadata": {
  "kernelspec": {
   "display_name": "Python 3.10.0 64-bit",
   "language": "python",
   "name": "python3"
  },
  "language_info": {
   "codemirror_mode": {
    "name": "ipython",
    "version": 3
   },
   "file_extension": ".py",
   "mimetype": "text/x-python",
   "name": "python",
   "nbconvert_exporter": "python",
   "pygments_lexer": "ipython3",
   "version": "3.10.0"
  },
  "orig_nbformat": 4,
  "vscode": {
   "interpreter": {
    "hash": "369f2c481f4da34e4445cda3fffd2e751bd1c4d706f27375911949ba6bb62e1c"
   }
  }
 },
 "nbformat": 4,
 "nbformat_minor": 2
}
