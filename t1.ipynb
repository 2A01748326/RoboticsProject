{
 "cells": [
  {
   "cell_type": "code",
   "execution_count": 6,
   "metadata": {},
   "outputs": [],
   "source": [
    "import numpy as np\n",
    "import cv2\n",
    "import os\n",
    "from xml.dom import minidom"
   ]
  },
  {
   "cell_type": "code",
   "execution_count": 7,
   "metadata": {},
   "outputs": [],
   "source": [
    "def readImage(imagePath):\n",
    "    # Loads image:\n",
    "    inputImage = cv2.imread(imagePath)\n",
    "    # Checks if image was successfully loaded:\n",
    "    if inputImage is None:\n",
    "        print(\"readImage>> Error: Could not load Input image.\")\n",
    "    return inputImage\n",
    "\n",
    "\n",
    "# Defines a re-sizable image window:\n",
    "def showImage(imageName, inputImage):\n",
    "    cv2.namedWindow(imageName, cv2.WINDOW_NORMAL)\n",
    "    cv2.imshow(imageName, inputImage)\n",
    "    cv2.waitKey(0)\n",
    "    cv2.destroyWindow(imageName)\n",
    "\n",
    "\n",
    "# Writes an PNG image:\n",
    "def writeImage(imagePath, inputImage):\n",
    "    imagePath = imagePath + \".png\"\n",
    "    cv2.imwrite(imagePath, inputImage, [cv2.IMWRITE_PNG_COMPRESSION, 0])\n",
    "    print(\"Wrote Image: \" + imagePath)\n"
   ]
  },
  {
   "cell_type": "code",
   "execution_count": 8,
   "metadata": {},
   "outputs": [
    {
     "name": "stdout",
     "output_type": "stream",
     "text": [
      "The files insde  d:\\proyectorobotica\\RoboticsProject\\Images\\Binary are: \n"
     ]
    }
   ],
   "source": [
    "imgPath = os.path.join(os.getcwd(), 'Images')\n",
    "binImgPath = os.path.join(imgPath, 'Binary')\n",
    "colorImgPath = os.path.join(imgPath, 'Color')\n",
    "print(\"The files insde \", binImgPath, \"are: \")\n",
    "#inputImage = readImage(picPath)\n",
    "#showImage(\"fire10\",inputImage)\n",
    "root = minidom.Document()\n",
    "xml = root.createElement('root') "
   ]
  },
  {
   "cell_type": "code",
   "execution_count": 9,
   "metadata": {},
   "outputs": [],
   "source": [
    "colorList = os.listdir(colorImgPath)\n",
    "#for elem in lista:\n",
    "    #print(elem)\n",
    "binList = os.listdir(binImgPath)\n",
    "#for elem in lista:\n",
    "#    print(elem)"
   ]
  },
  {
   "cell_type": "code",
   "execution_count": 10,
   "metadata": {},
   "outputs": [
    {
     "name": "stdout",
     "output_type": "stream",
     "text": [
      "[[0 0 0 ... 0 0 0]\n",
      " [0 0 0 ... 0 0 0]\n",
      " [0 0 0 ... 0 0 0]\n",
      " ...\n",
      " [0 0 0 ... 0 0 0]\n",
      " [0 0 0 ... 0 0 0]\n",
      " [0 0 0 ... 0 0 0]]\n"
     ]
    }
   ],
   "source": [
    "#Check first image and check the bounding rect of the blob\n",
    "colorInputImage = readImage(os.path.join(colorImgPath, colorList[0]))\n",
    "showImage(colorList[0], colorInputImage)\n",
    "binInputImage = readImage(os.path.join(binImgPath, binList[0]))\n",
    "binInputImage = cv2.cvtColor(binInputImage, cv2.COLOR_BGR2GRAY)\n",
    "automaticThreshold, binInputImage = cv2.threshold(binInputImage, 0, 255, cv2.THRESH_OTSU)\n",
    "showImage(binList[0], binInputImage)\n",
    "print(binInputImage)"
   ]
  },
  {
   "cell_type": "code",
   "execution_count": 13,
   "metadata": {},
   "outputs": [
    {
     "name": "stdout",
     "output_type": "stream",
     "text": [
      "(450, 800)\n",
      "Blob Area: 40.5\n",
      "BlobRectangle List:  (339, 344, 12, 8)\n",
      "Blob Area: 31.0\n",
      "BlobRectangle List:  (355, 333, 5, 11)\n",
      "Blob Area: 7.0\n",
      "BlobRectangle List:  (388, 248, 5, 4)\n",
      "Blob Area: 16.5\n",
      "BlobRectangle List:  (380, 239, 6, 7)\n",
      "Blob Area: 50.5\n",
      "BlobRectangle List:  (394, 238, 13, 10)\n",
      "Blob Area: 4.5\n",
      "BlobRectangle List:  (390, 234, 4, 3)\n",
      "Blob Area: 449.5\n",
      "BlobRectangle List:  (263, 228, 23, 48)\n",
      "Blob Area: 5971.5\n",
      "BlobRectangle List:  (289, 205, 95, 118)\n"
     ]
    }
   ],
   "source": [
    "contours, _ = cv2.findContours(binInputImage, cv2.RETR_EXTERNAL, cv2.CHAIN_APPROX_SIMPLE)\n",
    "print(binInputImage.shape)\n",
    "for c in contours:\n",
    "    # Compute blob bounding rectangle:\n",
    "    blobRectangle = cv2.boundingRect(c)\n",
    "    # Compute blob area:\n",
    "    blobArea = cv2.contourArea(c)\n",
    "    # Print the blob area:\n",
    "    print(\"Blob Area: \"+str(blobArea))\n",
    "    # Print blobRectangle\n",
    "    print(\"BlobRectangle List: \", blobRectangle)\n",
    "    cv2.rectangle(colorInputImage, (blobRectangle[0], blobRectangle[1]), (blobRectangle[0]+blobRectangle[2], blobRectangle[1]+blobRectangle[3]), (0, 128, 0), 2)\n",
    "showImage(\"Color\", colorInputImage)\n"
   ]
  },
  {
   "cell_type": "code",
   "execution_count": 14,
   "metadata": {},
   "outputs": [],
   "source": [
    "from pascal_voc_writer import Writer\n",
    "\n",
    "# create pascal voc writer (image_path, width, height)\n",
    "writer = Writer(os.path.join(colorImgPath, colorList[0]), colorInputImage.shape[1], colorInputImage.shape[0])\n",
    "\n",
    "# add objects (class, xmin, ymin, xmax, ymax)\n",
    "writer.addObject('fire', blobRectangle[0], blobRectangle[1], blobRectangle[0]+blobRectangle[2], blobRectangle[1]+blobRectangle[3])\n",
    "\n",
    "# write to file\n",
    "writer.save('XMLs/' + colorList[0][:-4] + '.xml')"
   ]
  },
  {
   "cell_type": "code",
   "execution_count": null,
   "metadata": {},
   "outputs": [],
   "source": []
  }
 ],
 "metadata": {
  "kernelspec": {
   "display_name": "Python 3.10.0 64-bit",
   "language": "python",
   "name": "python3"
  },
  "language_info": {
   "codemirror_mode": {
    "name": "ipython",
    "version": 3
   },
   "file_extension": ".py",
   "mimetype": "text/x-python",
   "name": "python",
   "nbconvert_exporter": "python",
   "pygments_lexer": "ipython3",
   "version": "3.10.0"
  },
  "orig_nbformat": 4,
  "vscode": {
   "interpreter": {
    "hash": "369f2c481f4da34e4445cda3fffd2e751bd1c4d706f27375911949ba6bb62e1c"
   }
  }
 },
 "nbformat": 4,
 "nbformat_minor": 2
}
