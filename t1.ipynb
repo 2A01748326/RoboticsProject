{
 "cells": [
  {
   "cell_type": "code",
   "execution_count": 1,
   "metadata": {},
   "outputs": [],
   "source": [
    "import numpy as np\n",
    "import cv2\n",
    "import os\n"
   ]
  },
  {
   "cell_type": "code",
   "execution_count": 8,
   "metadata": {},
   "outputs": [],
   "source": [
    "def readImage(imagePath):\n",
    "    # Loads image:\n",
    "    inputImage = cv2.imread(imagePath)\n",
    "    # Checks if image was successfully loaded:\n",
    "    if inputImage is None:\n",
    "        print(\"readImage>> Error: Could not load Input image.\")\n",
    "    return inputImage\n",
    "\n",
    "\n",
    "# Defines a re-sizable image window:\n",
    "def showImage(imageName, inputImage):\n",
    "    cv2.namedWindow(imageName, cv2.WINDOW_NORMAL)\n",
    "    cv2.imshow(imageName, inputImage)\n",
    "    cv2.waitKey(0)\n",
    "    cv2.destroyWindow(imageName)\n",
    "\n",
    "\n",
    "# Writes an PNG image:\n",
    "def writeImage(imagePath, inputImage):\n",
    "    imagePath = imagePath + \".png\"\n",
    "    cv2.imwrite(imagePath, inputImage, [cv2.IMWRITE_PNG_COMPRESSION, 0])\n",
    "    print(\"Wrote Image: \" + imagePath)\n"
   ]
  },
  {
   "cell_type": "code",
   "execution_count": 4,
   "metadata": {},
   "outputs": [
    {
     "name": "stdout",
     "output_type": "stream",
     "text": [
      "The files insde  d:\\Carlos\\RoboticsProject\\RoboticsProject\\Images\\Binary are: \n",
      "<nt.ScandirIterator object at 0x000001E0776ABEB0>\n"
     ]
    }
   ],
   "source": [
    "imgPath = os.path.join(os.getcwd(), 'Images')\n",
    "binImgPath = os.path.join(imgPath, 'Binary')\n",
    "print(\"The files insde \", binImgPath, \"are: \")\n",
    "#inputImage = readImage(picPath)\n",
    "#showImage(\"fire10\",inputImage)"
   ]
  },
  {
   "cell_type": "code",
   "execution_count": null,
   "metadata": {},
   "outputs": [],
   "source": [
    "lista = os.listdir(binImgPath)\n",
    "for elem in lista:\n",
    "    print(elem)"
   ]
  },
  {
   "cell_type": "code",
   "execution_count": 9,
   "metadata": {},
   "outputs": [],
   "source": [
    "#Check first image and check the bounding rect of the blob\n",
    "inputImage = readImage(os.path.join(binImgPath, lista[0]))\n",
    "showImage(lista[0], inputImage)"
   ]
  },
  {
   "cell_type": "code",
   "execution_count": null,
   "metadata": {},
   "outputs": [],
   "source": []
  }
 ],
 "metadata": {
  "kernelspec": {
   "display_name": "Python 3.10.4 64-bit",
   "language": "python",
   "name": "python3"
  },
  "language_info": {
   "codemirror_mode": {
    "name": "ipython",
    "version": 3
   },
   "file_extension": ".py",
   "mimetype": "text/x-python",
   "name": "python",
   "nbconvert_exporter": "python",
   "pygments_lexer": "ipython3",
   "version": "3.10.4"
  },
  "orig_nbformat": 4,
  "vscode": {
   "interpreter": {
    "hash": "f5ff168696553f3e2cb115c273c46eeb315c32b0d0536992c4bad2740a7f9469"
   }
  }
 },
 "nbformat": 4,
 "nbformat_minor": 2
}
